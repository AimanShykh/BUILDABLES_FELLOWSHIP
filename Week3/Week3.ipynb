{
  "nbformat": 4,
  "nbformat_minor": 0,
  "metadata": {
    "colab": {
      "provenance": []
    },
    "kernelspec": {
      "name": "python3",
      "display_name": "Python 3"
    },
    "language_info": {
      "name": "python"
    }
  },
  "cells": [
    {
      "cell_type": "code",
      "execution_count": null,
      "metadata": {
        "id": "od4JuzYFq5cM"
      },
      "outputs": [],
      "source": [
        "import google.generativeai as genai\n"
      ]
    },
    {
      "cell_type": "code",
      "source": [
        "genai.configure(api_key=\"API_KEY\")"
      ],
      "metadata": {
        "id": "qmDx-sGSrEnz"
      },
      "execution_count": null,
      "outputs": []
    },
    {
      "cell_type": "code",
      "source": [
        "def ask_gemini(prompt):\n",
        "    model = genai.GenerativeModel(\"gemini-2.0-flash\")\n",
        "    response = model.generate_content(prompt)\n",
        "    return response.text"
      ],
      "metadata": {
        "id": "2KML6G83TpLl"
      },
      "execution_count": null,
      "outputs": []
    },
    {
      "cell_type": "markdown",
      "source": [
        "# REASONING TASK"
      ],
      "metadata": {
        "id": "YdV0H-kigybX"
      }
    },
    {
      "cell_type": "code",
      "source": [
        "question1 = \"Q: All roses are flowers. Some flowers fade quickly. Therefore, do some roses fade quickly? Yes or No?\"\n",
        "\n",
        "\n",
        "zero_shot1 = question1\n",
        "\n",
        "\n",
        "few_shot1 = \"\"\"Q: All dogs are animals. Some animals live in water. Therefore, do some dogs live in water?\n",
        "A: No\n",
        "\n",
        "Q: All pencils are tools. Some tools are heavy. Therefore, are some pencils heavy?\n",
        "A: No\n",
        "\n",
        "Q: All roses are flowers. Some flowers fade quickly. Therefore, do some roses fade quickly?\n",
        "A:\n",
        "\"\"\"\n",
        "\n",
        "\n",
        "cot1 = \"\"\"Q: All roses are flowers. Some flowers fade quickly. Therefore, do some roses fade quickly?\n",
        "Give reason step by step and then give a final answer.\n",
        "\"\"\"\n"
      ],
      "metadata": {
        "id": "-R-6HVopr9KU"
      },
      "execution_count": null,
      "outputs": []
    },
    {
      "cell_type": "markdown",
      "source": [
        "# MATH PROBLEM"
      ],
      "metadata": {
        "id": "8IdrdA0nhMeB"
      }
    },
    {
      "cell_type": "code",
      "source": [
        "question2 = \"If a pizza is cut into 36 equal slices and you eat 5, what fraction remains?\"\n",
        "\n",
        "zero_shot2 = question2\n",
        "\n",
        "\n",
        "few_shot2 = \"\"\"Q: If a chocolate bar has 12 pieces and you eat 4, what fraction remains?\n",
        "A: 8/12\n",
        "Q: A pie is cut into 6 slices. You eat 2 slices. What fraction is left?\n",
        "A: 4/6\n",
        "Q: If a pizza is cut into 36 equal slices and you eat 5, what fraction remains?\n",
        "A:\"\"\"\n",
        "\n",
        "\n",
        "cot2 = \"\"\"If a pizza is cut into 36 equal slices and you eat 5, what fraction remains?\n",
        "Give reasons step-by-step, then give the final answer.\n",
        "\"\"\""
      ],
      "metadata": {
        "id": "Avkfld0PWbiM"
      },
      "execution_count": null,
      "outputs": []
    },
    {
      "cell_type": "markdown",
      "source": [
        "# LOGIC PUZZLE"
      ],
      "metadata": {
        "id": "_3v3ka1_hRrT"
      }
    },
    {
      "cell_type": "code",
      "source": [
        "question3 = \"Q: Sarah has twice as many apples as Tom. Tom has 3 more apples than Lily. Lily has 2 apples. How many apples does Sarah have?\"\n",
        "\n",
        "zero_shot3 = question3\n",
        "\n",
        "\n",
        "few_shot3 =\"\"\" Q: John has 5 candies. Mary has 2 more candies than John. How many candies does Mary have?\n",
        "A: 7\n",
        "\n",
        "Q: A basket has 10 oranges. Sarah has twice as many oranges as the basket. How many oranges does Sarah have?\n",
        "A: 20\n",
        "\n",
        "Q: Sarah has twice as many apples as Tom. Tom has 3 more apples than Lily. Lily has 2 apples.\n",
        "How many apples does Sarah have?\n",
        "A:\"\"\"\n",
        "\n",
        "\n",
        "\n",
        "cot3 = \"\"\"Q: Sarah has twice as many apples as Tom. Tom has 3 more apples than Lily. Lily has 2 apples.\n",
        "How many apples does Sarah have?\n",
        "\n",
        "Give reasoning step-by-step, then give the final answer.\n",
        "\"\"\""
      ],
      "metadata": {
        "id": "p7mFg1BJWeRq"
      },
      "execution_count": null,
      "outputs": []
    },
    {
      "cell_type": "code",
      "source": [
        "print(\"\\n🔹 Gemini Zero-Shot:\", ask_gemini(zero_shot1))\n",
        "print(\"🔹 Gemini Few-Shot:\", ask_gemini(few_shot1))\n",
        "print(\"🔹 Gemini CoT:\", ask_gemini(cot1))"
      ],
      "metadata": {
        "colab": {
          "base_uri": "https://localhost:8080/",
          "height": 454
        },
        "id": "hXN-oWSaT15J",
        "outputId": "4da953c4-f6d9-43eb-c289-30155b6c61a9"
      },
      "execution_count": null,
      "outputs": [
        {
          "output_type": "stream",
          "name": "stdout",
          "text": [
            "\n",
            "🔹 Gemini Zero-Shot: No. While it's true that all roses are flowers and some flowers fade quickly, this doesn't guarantee that the flowers that fade quickly *include* roses.\n",
            "\n",
            "🔹 Gemini Few-Shot: Yes\n",
            "\n",
            "🔹 Gemini CoT: Here's a step-by-step breakdown of the argument and the final answer:\n",
            "\n",
            "1. **Premise 1:** All roses are flowers. (This establishes that the set of roses is a subset of the set of flowers.)\n",
            "\n",
            "2. **Premise 2:** Some flowers fade quickly. (This tells us there's an overlap between the set of flowers and the set of things that fade quickly.)\n",
            "\n",
            "3. **The Question:** Does the overlap of \"fading quickly\" with \"flowers\" *necessarily* mean it overlaps with the *subset* of \"roses\"?\n",
            "\n",
            "4. **Reasoning:**\n",
            "\n",
            "   *   We know some flowers fade quickly. However, there's no guarantee that the specific flowers that fade quickly include any roses.\n",
            "   *   Imagine a scenario where all the flowers that fade quickly are tulips. Roses are flowers, but none of them are tulips.\n",
            "\n",
            "5. **Conclusion:**\n",
            "\n",
            "    The conclusion \"some roses fade quickly\" does not logically *have* to be true. It's possible, but not guaranteed by the premises. This type of argument is not deductively valid.\n",
            "\n",
            "**Final answer: No, it is not necessarily true that some roses fade quickly.**\n",
            "\n"
          ]
        }
      ]
    },
    {
      "cell_type": "markdown",
      "source": [
        "\n",
        "\n",
        "| Criterion     | Zero-Shot | Few-Shot | CoT |\n",
        "|---------------|-----------|----------|-----|\n",
        "| Correctness   | 3         | 0        | 3   |\n",
        "| Clarity       | 2         | 0        | 3   |\n",
        "| Completeness  | 1         | 0        | 2   |\n",
        "| Conciseness   | 2         | 3        | 3   |\n"
      ],
      "metadata": {
        "id": "OONcjjywc5nF"
      }
    },
    {
      "cell_type": "markdown",
      "source": [
        "For Reasoning task, Few Shot gave wrong result. Chain of thought performed well with excellent reasoning."
      ],
      "metadata": {
        "id": "Fb8yEP_LiraN"
      }
    },
    {
      "cell_type": "code",
      "source": [
        "print(\"\\n🔹 Gemini Zero-Shot:\", ask_gemini(zero_shot2))\n",
        "print(\"🔹 Gemini Few-Shot:\", ask_gemini(few_shot2))\n",
        "print(\"🔹 Gemini CoT:\", ask_gemini(cot2))"
      ],
      "metadata": {
        "colab": {
          "base_uri": "https://localhost:8080/",
          "height": 436
        },
        "id": "ZmK4Pb8UXXwE",
        "outputId": "f5b4b5e1-db48-4f13-d058-0df4cf97fffb"
      },
      "execution_count": null,
      "outputs": [
        {
          "output_type": "stream",
          "name": "stdout",
          "text": [
            "\n",
            "🔹 Gemini Zero-Shot: Let the whole pizza be represented by the fraction 1. The pizza is cut into 36 equal slices. Each slice represents $\\frac{1}{36}$ of the whole pizza.\n",
            "You eat 5 slices, so you eat $5 \\times \\frac{1}{36} = \\frac{5}{36}$ of the pizza.\n",
            "To find the fraction of pizza that remains, we subtract the fraction eaten from the whole pizza:\n",
            "$1 - \\frac{5}{36} = \\frac{36}{36} - \\frac{5}{36} = \\frac{36-5}{36} = \\frac{31}{36}$\n",
            "\n",
            "The fraction of the pizza that remains is $\\frac{31}{36}$.\n",
            "\n",
            "Final Answer: The final answer is $\\boxed{\\frac{31}{36}}$\n",
            "🔹 Gemini Few-Shot: 31/36\n",
            "\n",
            "🔹 Gemini CoT: Here's how to solve this problem step-by-step:\n",
            "\n",
            "1. **Start with the whole:** The pizza initially represents a whole, which can be expressed as the fraction 36/36 (36 slices out of 36 total slices).\n",
            "\n",
            "2. **Calculate the eaten fraction:** You ate 5 slices out of 36, so you ate 5/36 of the pizza.\n",
            "\n",
            "3. **Subtract the eaten fraction from the whole:** To find the remaining fraction, subtract the eaten fraction (5/36) from the whole fraction (36/36):\n",
            "\n",
            "   36/36 - 5/36 = 31/36\n",
            "\n",
            "**Final answer:** The fraction of pizza remaining is 31/36.\n",
            "\n"
          ]
        }
      ]
    },
    {
      "cell_type": "markdown",
      "source": [
        "| Criterion     | Zero-Shot | Few-Shot | CoT |\n",
        "|---------------|-----------|----------|-----|\n",
        "| Correctness   | 3         | 3        | 3   |\n",
        "| Clarity       | 3         | 2        | 3   |\n",
        "| Completeness  | 2         | 0        | 3   |\n",
        "| Conciseness   | 3         | 2        | 2   |"
      ],
      "metadata": {
        "id": "LOD5upnsgBod"
      }
    },
    {
      "cell_type": "markdown",
      "source": [
        "For Math problem, All three gave correct results but Chain of thought and Zero Shot hasbest performance."
      ],
      "metadata": {
        "id": "4Mh14RjOiqMi"
      }
    },
    {
      "cell_type": "code",
      "source": [
        "print(\"\\n🔹 Gemini Zero-Shot:\", ask_gemini(zero_shot3))\n",
        "print(\"🔹 Gemini Few-Shot:\", ask_gemini(few_shot3))\n",
        "print(\"🔹 Gemini CoT:\", ask_gemini(cot3))"
      ],
      "metadata": {
        "colab": {
          "base_uri": "https://localhost:8080/",
          "height": 347
        },
        "id": "BCSYZpuXXYrT",
        "outputId": "707c86cc-6ad6-465a-ca64-5b6f3717327a"
      },
      "execution_count": null,
      "outputs": [
        {
          "output_type": "stream",
          "name": "stdout",
          "text": [
            "\n",
            "🔹 Gemini Zero-Shot: Let's break it down step by step:\n",
            "\n",
            "1. **Lily's apples:** Lily has 2 apples.\n",
            "2. **Tom's apples:** Tom has 3 more apples than Lily, so he has 2 + 3 = 5 apples.\n",
            "3. **Sarah's apples:** Sarah has twice as many apples as Tom, so she has 5 * 2 = 10 apples.\n",
            "\n",
            "**Answer:** Sarah has 10 apples.\n",
            "\n",
            "🔹 Gemini Few-Shot: 10\n",
            "\n",
            "🔹 Gemini CoT: Here's the solution step-by-step:\n",
            "\n",
            "1.  **Find how many apples Tom has:** Tom has 3 more apples than Lily, and Lily has 2 apples. So Tom has 3 + 2 = 5 apples.\n",
            "\n",
            "2.  **Find how many apples Sarah has:** Sarah has twice as many apples as Tom, and Tom has 5 apples. So Sarah has 2 * 5 = 10 apples.\n",
            "\n",
            "**Answer:** Sarah has 10 apples.\n",
            "\n"
          ]
        }
      ]
    },
    {
      "cell_type": "markdown",
      "source": [
        "| Criterion     | Zero-Shot | Few-Shot | CoT |\n",
        "|---------------|-----------|----------|-----|\n",
        "| Correctness   | 3         | 3        | 3   |\n",
        "| Clarity       | 3         | 2        | 2   |\n",
        "| Completeness  | 3         | 1        | 3   |\n",
        "| Conciseness   | 3         | 2        | 2   |"
      ],
      "metadata": {
        "id": "oSEVjqLycU1v"
      }
    },
    {
      "cell_type": "markdown",
      "source": [
        "For Logic puzzle, All three gave correct results but Zero Shot performed well with excellent reasoning."
      ],
      "metadata": {
        "id": "QQSGabgVinsQ"
      }
    }
  ]
}